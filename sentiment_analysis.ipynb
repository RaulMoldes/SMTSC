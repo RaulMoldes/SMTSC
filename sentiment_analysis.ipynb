{
 "cells": [
  {
   "cell_type": "markdown",
   "metadata": {},
   "source": [
    "# Sentiment analysis with a transformer encoder."
   ]
  },
  {
   "cell_type": "markdown",
   "metadata": {},
   "source": [
    "This notebook contains code that demonstrates how to build a transformer encoder from scratch for binary sentiment classification."
   ]
  },
  {
   "cell_type": "code",
   "execution_count": 106,
   "metadata": {},
   "outputs": [
    {
     "name": "stdout",
     "output_type": "stream",
     "text": [
      "Train size: 56980\n",
      "Val size: 7122\n",
      "Test size: 7123\n"
     ]
    }
   ],
   "source": [
    "import pandas as pd\n",
    "import numpy as np\n",
    "import emoji\n",
    "import string\n",
    "from bs4 import BeautifulSoup\n",
    "import re\n",
    "import nltk\n",
    "import tensorflow as tf\n",
    "\n",
    "gpus = tf.config.experimental.list_physical_devices('GPU')\n",
    "if gpus:\n",
    "    try:\n",
    "        for gpu in gpus:\n",
    "            tf.config.experimental.set_memory_growth(gpu, True)\n",
    "    except RuntimeError as e:\n",
    "        print(e)\n",
    "\n",
    "\n",
    "# DATA\n",
    "DATA = pd.read_csv('data/go_emotions_dataset.csv')\n",
    "CATEGORIES = ['admiration', 'amusement', 'anger', 'annoyance', 'approval', 'caring', 'confusion', 'curiosity', 'desire', 'disappointment', 'disapproval', 'disgust', 'embarrassment', 'excitement', 'fear', 'gratitude', 'grief', 'joy', 'love', 'nervousness', 'optimism', 'pride', 'realization', 'relief', 'remorse', 'sadness', 'surprise']\n",
    "STOPWORDS = set(nltk.corpus.stopwords.words('english'))\n",
    "TEXT = 'text'\n",
    "TOTAL_SIZE = len(DATA)\n",
    "# CONFIGURATION\n",
    "TRAIN_SIZE = int(TOTAL_SIZE*0.8)\n",
    "VAL_SIZE = int(TOTAL_SIZE*0.1)\n",
    "TEST_SIZE = int(TOTAL_SIZE*0.1)\n",
    "\n",
    "TRAIN_DATA = DATA[:TRAIN_SIZE]\n",
    "\n",
    "\n",
    "VAL_DATA = DATA[TRAIN_SIZE:TRAIN_SIZE+VAL_SIZE]\n",
    "\n",
    "TEST_DATA = DATA[TRAIN_SIZE+VAL_SIZE:]\n",
    "\n",
    "print(f\"Train size: {len(TRAIN_DATA)}\")\n",
    "print(f\"Val size: {len(VAL_DATA)}\")\n",
    "print(f\"Test size: {len(TEST_DATA)}\")\n",
    "\n",
    "# MODEL PARAMS\n",
    "BATCH_SIZE=32\n",
    "VOCAB_SIZE=10000\n",
    "SEQUENCE_LENGTH=250\n",
    "EMBEDDING_DIM=100\n",
    "D_FF=1024\n",
    "NUM_HEADS=12\n",
    "NUM_LAYERS=1\n",
    "NUM_EPOCHS=20\n",
    "CONV_KERNEL_SIZE = 5\n",
    "N_FILTERS = 32  \n"
   ]
  },
  {
   "cell_type": "code",
   "execution_count": 107,
   "metadata": {},
   "outputs": [],
   "source": [
    "CONTRACTION_MAPPING = {\"ain't\": \"is not\", \"aren't\": \"are not\",\"can't\": \"cannot\", \"'cause\": \"because\", \"could've\": \"could have\", \"couldn't\": \"could not\", \n",
    "                       \"didn't\": \"did not\",  \"doesn't\": \"does not\", \"don't\": \"do not\", \"hadn't\": \"had not\", \"hasn't\": \"has not\", \"haven't\": \"have not\", \n",
    "                       \"he'd\": \"he would\",\"he'll\": \"he will\", \"he's\": \"he is\", \"how'd\": \"how did\", \"how'd'y\": \"how do you\", \"how'll\": \"how will\", \n",
    "                       \"how's\": \"how is\",  \"I'd\": \"I would\", \"I'd've\": \"I would have\", \"I'll\": \"I will\", \"I'll've\": \"I will have\",\"I'm\": \"I am\",\n",
    "                       \"I've\": \"I have\", \"i'd\": \"i would\", \"i'd've\": \"i would have\", \"i'll\": \"i will\",  \"i'll've\": \"i will have\",\"i'm\": \"i am\", \n",
    "                       \"i've\": \"i have\", \"isn't\": \"is not\", \"it'd\": \"it would\", \"it'd've\": \"it would have\", \"it'll\": \"it will\", \"it'll've\": \"it will have\",\n",
    "                       \"it's\": \"it is\", \"let's\": \"let us\", \"ma'am\": \"madam\", \"mayn't\": \"may not\", \"might've\": \"might have\",\"mightn't\": \"might not\",\n",
    "                       \"mightn't've\": \"might not have\", \"must've\": \"must have\", \"mustn't\": \"must not\", \"mustn't've\": \"must not have\", \"needn't\": \"need not\", \n",
    "                       \"needn't've\": \"need not have\",\"o'clock\": \"of the clock\", \"oughtn't\": \"ought not\", \"oughtn't've\": \"ought not have\", \"shan't\": \"shall not\",\n",
    "                       \"sha'n't\": \"shall not\", \"shan't've\": \"shall not have\", \"she'd\": \"she would\", \"she'd've\": \"she would have\", \"she'll\": \"she will\", \n",
    "                       \"she'll've\": \"she will have\", \"she's\": \"she is\", \"should've\": \"should have\", \"shouldn't\": \"should not\", \"shouldn't've\": \"should not have\",\n",
    "                       \"so've\": \"so have\",\"so's\": \"so as\", \"this's\": \"this is\",\"that'd\": \"that would\", \"that'd've\": \"that would have\", \"that's\": \"that is\",\n",
    "                       \"there'd\": \"there would\", \"there'd've\": \"there would have\", \"there's\": \"there is\", \"here's\": \"here is\",\"they'd\": \"they would\",\n",
    "                       \"they'd've\": \"they would have\", \"they'll\": \"they will\", \"they'll've\": \"they will have\", \"they're\": \"they are\", \"they've\": \"they have\",\n",
    "                       \"to've\": \"to have\", \"wasn't\": \"was not\", \"we'd\": \"we would\", \"we'd've\": \"we would have\", \"we'll\": \"we will\", \"we'll've\": \"we will have\",\n",
    "                       \"we're\": \"we are\", \"we've\": \"we have\", \"weren't\": \"were not\", \"what'll\": \"what will\", \"what'll've\": \"what will have\", \n",
    "                       \"what're\": \"what are\",  \"what's\": \"what is\", \"what've\": \"what have\", \"when's\": \"when is\", \"when've\": \"when have\", \"where'd\": \"where did\",\n",
    "                       \"where's\": \"where is\", \"where've\": \"where have\", \"who'll\": \"who will\", \"who'll've\": \"who will have\", \"who's\": \"who is\", \n",
    "                       \"who've\": \"who have\", \"why's\": \"why is\", \"why've\": \"why have\", \"will've\": \"will have\", \"won't\": \"will not\", \"won't've\": \"will not have\", \n",
    "                       \"would've\": \"would have\", \"wouldn't\": \"would not\", \"wouldn't've\": \"would not have\", \"y'all\": \"you all\", \"y'all'd\": \"you all would\",\n",
    "                       \"y'all'd've\": \"you all would have\",\"y'all're\": \"you all are\",\"y'all've\": \"you all have\",\"you'd\": \"you would\", \"you'd've\": \"you would have\",\n",
    "                       \"you'll\": \"you will\", \"you'll've\": \"you will have\", \"you're\": \"you are\", \"you've\": \"you have\", 'u.s':'america', 'e.g':'for example'}\n",
    "\n",
    "PUNCT = [',', '.', '\"', ':', ')', '(', '-', '!', '?', '|', ';', \"'\", '$', '&', '/', '[', ']', '>', '%', '=', '#', '*', '+', '\\\\', '•',  '~', '@', '£', \n",
    " '·', '_', '{', '}', '©', '^', '®', '`',  '<', '→', '°', '€', '™', '›',  '♥', '←', '×', '§', '″', '′', 'Â', '█', '½', 'à', '…', \n",
    " '“', '★', '”', '–', '●', 'â', '►', '−', '¢', '²', '¬', '░', '¶', '↑', '±', '¿', '▾', '═', '¦', '║', '―', '¥', '▓', '—', '‹', '─', \n",
    " '▒', '：', '¼', '⊕', '▼', '▪', '†', '■', '’', '▀', '¨', '▄', '♫', '☆', 'é', '¯', '♦', '¤', '▲', 'è', '¸', '¾', 'Ã', '⋅', '‘', '∞', \n",
    " '∙', '）', '↓', '、', '│', '（', '»', '，', '♪', '╩', '╚', '³', '・', '╦', '╣', '╔', '╗', '▬', '❤', 'ï', 'Ø', '¹', '≤', '‡', '√', ]\n",
    "PUNCT_MAPPING = {\"‘\": \"'\", \"₹\": \"e\", \"´\": \"'\", \"°\": \"\", \"€\": \"e\", \"™\": \"tm\", \"√\": \" sqrt \", \"×\": \"x\", \"²\": \"2\", \"—\": \"-\", \"–\": \"-\", \"’\": \"'\", \"_\": \"-\",\n",
    "                 \"`\": \"'\", '“': '\"', '”': '\"', '“': '\"', \"£\": \"e\", '∞': 'infinity', 'θ': 'theta', '÷': '/', 'α': 'alpha', '•': '.', 'à': 'a', '−': '-', \n",
    "                 'β': 'beta', '∅': '', '³': '3', 'π': 'pi', '!':' '}\n",
    "MISPELL_DICT = {'colour': 'color', 'centre': 'center', 'favourite': 'favorite', 'travelling': 'traveling', 'counselling': 'counseling', 'theatre': 'theater',\n",
    "                'cancelled': 'canceled', 'labour': 'labor', 'organisation': 'organization', 'wwii': 'world war 2', 'citicise': 'criticize', 'youtu ': 'youtube ',\n",
    "                'Qoura': 'Quora', 'sallary': 'salary', 'Whta': 'What', 'narcisist': 'narcissist', 'howdo': 'how do', 'whatare': 'what are', 'howcan': 'how can',\n",
    "                'howmuch': 'how much', 'howmany': 'how many', 'whydo': 'why do', 'doI': 'do I', 'theBest': 'the best', 'howdoes': 'how does', \n",
    "                'mastrubation': 'masturbation', 'mastrubate': 'masturbate', \"mastrubating\": 'masturbating', 'pennis': 'penis', 'Etherium': 'Ethereum', \n",
    "                'narcissit': 'narcissist', 'bigdata': 'big data', '2k17': '2017', '2k18': '2018', 'qouta': 'quota', 'exboyfriend': 'ex boyfriend', \n",
    "                'airhostess': 'air hostess', \"whst\": 'what', 'watsapp': 'whatsapp', 'demonitisation': 'demonetization', 'demonitization': 'demonetization',\n",
    "                'demonetisation': 'demonetization'}\n",
    "\n",
    "def clean_text(text):\n",
    "    '''Clean emoji, Make text lowercase, remove text in square brackets,remove links,remove punctuation\n",
    "    and remove words containing numbers.'''\n",
    "    text = emoji.demojize(text)\n",
    "    text = re.sub(r'\\:(.*?)\\:','',text)\n",
    "    text = str(text).lower()    #Making Text Lowercase\n",
    "    text = re.sub('\\[.*?\\]', '', text)\n",
    "    #The next 2 lines remove html text\n",
    "    text = BeautifulSoup(text, 'lxml').get_text()\n",
    "    text = re.sub('https?://\\S+|www\\.\\S+', '', text)\n",
    "    text = re.sub('<.*?>+', '', text)\n",
    "    text = re.sub('\\n', '', text)\n",
    "    text = re.sub('\\w*\\d\\w*', '', text)\n",
    "    # replacing everything with space except (a-z, A-Z, \".\", \"?\", \"!\", \",\", \"'\")\n",
    "    text = re.sub(r\"[^a-zA-Z?.!,¿']+\", \" \", text)\n",
    "    return text\n",
    "\n",
    "def clean_contractions(text, mapping):\n",
    "    '''Clean contraction using contraction mapping'''    \n",
    "    specials = [\"’\", \"‘\", \"´\", \"`\"]\n",
    "    for s in specials:\n",
    "        text = text.replace(s, \"'\")\n",
    "    for word in mapping.keys():\n",
    "        if \"\"+word+\"\" in text:\n",
    "            text = text.replace(\"\"+word+\"\", \"\"+mapping[word]+\"\")\n",
    "    #Remove Punctuations\n",
    "    text = re.sub('[%s]' % re.escape(string.punctuation), '', text)\n",
    "    # creating a space between a word and the punctuation following it\n",
    "    # eg: \"he is a boy.\" => \"he is a boy .\"\n",
    "    text = re.sub(r\"([?.!,¿])\", r\" \\1 \", text)\n",
    "    text = re.sub(r'[\" \"]+', \" \", text)\n",
    "    return text\n",
    "\n",
    "def clean_special_chars(text, punct, mapping):\n",
    "    '''Cleans special characters present(if any)'''   \n",
    "    for p in mapping:\n",
    "        text = text.replace(p, mapping[p])\n",
    "    \n",
    "    for p in punct:\n",
    "        text = text.replace(p, f' {p} ')\n",
    "    \n",
    "    specials = {'\\u200b': ' ', '…': ' ... ', '\\ufeff': '', 'करना': '', 'है': ''}  \n",
    "    for s in specials:\n",
    "        text = text.replace(s, specials[s])\n",
    "    \n",
    "    return text\n",
    "\n",
    "def correct_spelling(x, dic):\n",
    "    '''Corrects common spelling errors'''   \n",
    "    for word in dic.keys():\n",
    "        x = x.replace(word, dic[word])\n",
    "    return x\n",
    "\n",
    "def remove_space(text):\n",
    "    '''Removes awkward spaces'''   \n",
    "    #Removes awkward spaces \n",
    "    text = text.strip()\n",
    "    text = text.split()\n",
    "    return \" \".join(text)\n",
    "\n",
    "def text_preprocessing_pipeline(text):\n",
    "    '''Cleaning and parsing the text.'''\n",
    "    text = clean_text(text)\n",
    "    text = clean_contractions(text, CONTRACTION_MAPPING)\n",
    "    text = clean_special_chars(text, PUNCT, PUNCT_MAPPING)\n",
    "    text = correct_spelling(text, MISPELL_DICT)\n",
    "    text = remove_space(text)\n",
    "    return text"
   ]
  },
  {
   "cell_type": "markdown",
   "metadata": {},
   "source": [
    "## 1. Data loading."
   ]
  },
  {
   "cell_type": "code",
   "execution_count": 108,
   "metadata": {},
   "outputs": [
    {
     "name": "stdout",
     "output_type": "stream",
     "text": [
      "Loading data...\n"
     ]
    },
    {
     "name": "stderr",
     "output_type": "stream",
     "text": [
      "c:\\Users\\raulm\\anaconda3\\envs\\tensorflow\\lib\\site-packages\\bs4\\__init__.py:343: MarkupResemblesLocatorWarning: \".\" looks like a directory name, not markup. You may want to open a file found in this directory and pass the filehandle into Beautiful Soup.\n",
      "  MarkupResemblesLocatorWarning\n",
      "c:\\Users\\raulm\\anaconda3\\envs\\tensorflow\\lib\\site-packages\\bs4\\__init__.py:343: MarkupResemblesLocatorWarning: \". .\" looks like a directory name, not markup. You may want to open a file found in this directory and pass the filehandle into Beautiful Soup.\n",
      "  MarkupResemblesLocatorWarning\n",
      "c:\\Users\\raulm\\anaconda3\\envs\\tensorflow\\lib\\site-packages\\bs4\\__init__.py:343: MarkupResemblesLocatorWarning: \". \" looks like a directory name, not markup. You may want to open a file found in this directory and pass the filehandle into Beautiful Soup.\n",
      "  MarkupResemblesLocatorWarning\n",
      "c:\\Users\\raulm\\anaconda3\\envs\\tensorflow\\lib\\site-packages\\bs4\\__init__.py:343: MarkupResemblesLocatorWarning: \"/\" looks like a directory name, not markup. You may want to open a file found in this directory and pass the filehandle into Beautiful Soup.\n",
      "  MarkupResemblesLocatorWarning\n"
     ]
    },
    {
     "name": "stdout",
     "output_type": "stream",
     "text": [
      "Data loaded successfully!\n"
     ]
    }
   ],
   "source": [
    "def load_and_split_data(data):\n",
    "    text = data[TEXT].apply(text_preprocessing_pipeline).values\n",
    "    label = data[CATEGORIES].values.astype(\"float32\")\n",
    "    return text, label\n",
    "\n",
    "# Load the data\n",
    "print(\"Loading data...\")\n",
    "train_data, train_labels = load_and_split_data(TRAIN_DATA)\n",
    "val_data, val_labels = load_and_split_data(VAL_DATA)\n",
    "test_data, test_labels = load_and_split_data(TEST_DATA)\n",
    "\n",
    "train_dataset = tf.data.Dataset.from_tensor_slices((train_data, train_labels))\n",
    "val_dataset = tf.data.Dataset.from_tensor_slices((val_data, val_labels))\n",
    "test_dataset = tf.data.Dataset.from_tensor_slices((test_data, test_labels))\n",
    "\n",
    "print(\"Data loaded successfully!\")"
   ]
  },
  {
   "cell_type": "markdown",
   "metadata": {},
   "source": [
    "## 2. Data preprocessing."
   ]
  },
  {
   "cell_type": "code",
   "execution_count": 109,
   "metadata": {},
   "outputs": [],
   "source": [
    "\n",
    "def standardization(input_data):\n",
    "    input_data = tf.strings.lower(input_data)\n",
    "    input_data = tf.strings.regex_replace(input_data, r'\\d+', '')\n",
    "    input_data = tf.strings.regex_replace(input_data, r'[^\\w\\s]', '')\n",
    "    input_data = tf.strings.strip(input_data)\n",
    "    return input_data\n",
    "\n",
    "\n",
    "\n",
    "\n"
   ]
  },
  {
   "cell_type": "code",
   "execution_count": 110,
   "metadata": {},
   "outputs": [],
   "source": [
    "vectorize_layer=tf.keras.layers.TextVectorization(\n",
    "    standardize=standardization,\n",
    "    max_tokens=VOCAB_SIZE, output_mode='int', output_sequence_length=SEQUENCE_LENGTH\n",
    ")\n"
   ]
  },
  {
   "cell_type": "code",
   "execution_count": 111,
   "metadata": {},
   "outputs": [],
   "source": [
    "training_dataset = train_dataset.map(lambda x, y: x)\n",
    "vectorize_layer.adapt(training_dataset)\n"
   ]
  },
  {
   "cell_type": "code",
   "execution_count": 112,
   "metadata": {},
   "outputs": [],
   "source": [
    "def vectorizer(review,label):\n",
    "    review =  vectorize_layer(review)\n",
    "    if len(review)<SEQUENCE_LENGTH:\n",
    "        review = tf.pad(review, [[0,SEQUENCE_LENGTH-len(review)]])\n",
    "    return review,label"
   ]
  },
  {
   "cell_type": "code",
   "execution_count": 113,
   "metadata": {},
   "outputs": [],
   "source": [
    "import pickle\n",
    "with open('models/vectorize_layer.h5', 'wb') as f:\n",
    "    pickle.dump({'weights':vectorize_layer.get_weights(), 'config': vectorize_layer.get_config()}, f)"
   ]
  },
  {
   "cell_type": "code",
   "execution_count": 114,
   "metadata": {},
   "outputs": [],
   "source": [
    "train_dataset=train_dataset.map(vectorizer)\n",
    "val_dataset=val_dataset.map(vectorizer)\n",
    "test_dataset=test_dataset.map(vectorizer)\n",
    "\n"
   ]
  },
  {
   "cell_type": "code",
   "execution_count": 115,
   "metadata": {},
   "outputs": [],
   "source": [
    "train_dataset=train_dataset.batch(BATCH_SIZE, drop_remainder=True).prefetch(buffer_size=tf.data.AUTOTUNE)\n",
    "val_dataset=val_dataset.batch(BATCH_SIZE, drop_remainder=True).prefetch(buffer_size=tf.data.AUTOTUNE)"
   ]
  },
  {
   "cell_type": "markdown",
   "metadata": {},
   "source": [
    "## 3. Data modelling\n",
    "### 3.1. Embedding layer."
   ]
  },
  {
   "cell_type": "code",
   "execution_count": 116,
   "metadata": {},
   "outputs": [],
   "source": [
    "import numpy as np\n",
    "def positional_encoding(model_size,SEQUENCE_LENGTH):\n",
    "  output=[]\n",
    "  for pos in range(SEQUENCE_LENGTH):\n",
    "    PE=np.zeros((model_size))\n",
    "    for i in range(model_size):\n",
    "      if i%2==0:\n",
    "        PE[i]=np.sin(pos/(10000**(i/model_size)))\n",
    "      else:\n",
    "        PE[i]=np.cos(pos/(10000**((i-1)/model_size)))\n",
    "    output.append(tf.expand_dims(PE,axis=0))\n",
    "  out=tf.concat(output,axis=0)\n",
    "  out=tf.expand_dims(out,axis=0)\n",
    "  return tf.cast(out,dtype=tf.float32)"
   ]
  },
  {
   "cell_type": "code",
   "execution_count": 117,
   "metadata": {},
   "outputs": [],
   "source": [
    "class Embeddings(tf.keras.layers.Layer):\n",
    "  def __init__(self, sequence_length, vocab_size, embed_dim,):\n",
    "    super(Embeddings, self).__init__()\n",
    "    self.token_embeddings=tf.keras.layers.Embedding(\n",
    "        input_dim=vocab_size, output_dim=embed_dim)\n",
    "    self.sequence_length = sequence_length\n",
    "    self.vocab_size = vocab_size\n",
    "    self.embed_dim = embed_dim\n",
    "\n",
    "  def call(self, inputs):\n",
    "    embedded_tokens = self.token_embeddings(inputs)\n",
    "    embedded_positions=positional_encoding(\n",
    "        self.embed_dim,self.sequence_length)\n",
    "    return embedded_tokens + embedded_positions\n",
    "\n",
    "  def compute_mask(self, inputs, mask=None):\n",
    "    return tf.math.not_equal(inputs, 0)\n",
    "\n",
    "  def get_config(self):\n",
    "      config = super().get_config()\n",
    "      config.update({\n",
    "        \"sequence_length\": self.sequence_length,\n",
    "        \"vocab_size\": self.vocab_size,\n",
    "        \"embed_dim\": self.embed_dim,\n",
    "      })\n",
    "      return config"
   ]
  },
  {
   "cell_type": "markdown",
   "metadata": {},
   "source": [
    "### 3.2 Encoder layer."
   ]
  },
  {
   "cell_type": "code",
   "execution_count": 118,
   "metadata": {},
   "outputs": [],
   "source": [
    "class TransformerEncoder(tf.keras.layers.Layer):\n",
    "    def __init__(self, embed_dim, dense_dim, num_heads):\n",
    "        super(TransformerEncoder, self).__init__()\n",
    "        self.embed_dim = embed_dim\n",
    "        self.dense_dim = dense_dim\n",
    "        self.num_heads = num_heads\n",
    "        \n",
    "\n",
    "        self.attention = tf.keras.layers.MultiHeadAttention(\n",
    "            num_heads=num_heads, key_dim=embed_dim, dropout=0.1, \n",
    "        )\n",
    "        self.dense_proj=tf.keras.Sequential(\n",
    "            [tf.keras.layers.Dense(dense_dim, activation=\"elu\"),tf.keras.layers.Dense(embed_dim),]\n",
    "        )\n",
    "        self.layernorm_1 = tf.keras.layers.LayerNormalization()\n",
    "        self.layernorm_2 = tf.keras.layers.LayerNormalization()\n",
    "        self.supports_masking = True\n",
    "\n",
    "    def call(self, inputs, mask=None):\n",
    "      if mask is not None:\n",
    "        mask1 = mask[:, :, tf.newaxis]\n",
    "        mask2 = mask[:,tf.newaxis, :]\n",
    "        padding_mask = tf.cast(mask1&mask2, dtype=\"int32\")\n",
    "\n",
    "      \n",
    "     \n",
    "      \n",
    "      attention_output = self.attention(\n",
    "          query=inputs, key=inputs,value=inputs,attention_mask=padding_mask\n",
    "      )\n",
    "\n",
    " \n",
    "      proj_input = self.layernorm_1(inputs + attention_output)\n",
    "      proj_output = self.dense_proj(proj_input)\n",
    "\n",
    "      return self.layernorm_2(proj_input + proj_output)\n",
    "\n",
    "    def get_config(self):\n",
    "      config = super().get_config()\n",
    "      config.update({\n",
    "        \"embed_dim\": self.embed_dim,\n",
    "        \"num_heads\": self.num_heads,\n",
    "        \"dense_dim\": self.dense_dim,\n",
    "      })\n",
    "      return config"
   ]
  },
  {
   "cell_type": "markdown",
   "metadata": {},
   "source": [
    "### 3. Final model."
   ]
  },
  {
   "cell_type": "code",
   "execution_count": 156,
   "metadata": {},
   "outputs": [
    {
     "name": "stdout",
     "output_type": "stream",
     "text": [
      "(None, 100)\n",
      "Model: \"transformer\"\n",
      "_________________________________________________________________\n",
      "Layer (type)                 Output Shape              Param #   \n",
      "=================================================================\n",
      "input (InputLayer)           [(None, None)]            0         \n",
      "_________________________________________________________________\n",
      "embeddings_20 (Embeddings)   (None, 250, 100)          1000000   \n",
      "_________________________________________________________________\n",
      "transformer_encoder_20 (Tran (None, 250, 100)          690024    \n",
      "_________________________________________________________________\n",
      "global_max_pooling1d_4 (Glob (None, 100)               0         \n",
      "_________________________________________________________________\n",
      "flatten_12 (Flatten)         (None, 100)               0         \n",
      "_________________________________________________________________\n",
      "dense_60 (Dense)             (None, 27)                2727      \n",
      "=================================================================\n",
      "Total params: 1,692,751\n",
      "Trainable params: 1,692,751\n",
      "Non-trainable params: 0\n",
      "_________________________________________________________________\n"
     ]
    }
   ],
   "source": [
    "\n",
    "\n",
    "\n",
    "encoder_input=tf.keras.layers.Input(shape=(None,), dtype=\"int32\", name=\"input\")\n",
    "\n",
    "x = Embeddings(SEQUENCE_LENGTH,VOCAB_SIZE,EMBEDDING_DIM)(encoder_input)\n",
    "\n",
    "for _ in range(NUM_LAYERS):\n",
    "  \n",
    "  x=TransformerEncoder(EMBEDDING_DIM,D_FF,NUM_HEADS)(x)\n",
    "\n",
    "# Global average pooling to aggregate sequence information\n",
    "\n",
    "x = tf.keras.layers.GlobalMaxPooling1D()(x)\n",
    "\n",
    "x = tf.keras.layers.Flatten()(x)\n",
    "\n",
    "# Output layer (one dense layer per target label)\n",
    "output = tf.keras.layers.Dense(27, activation=\"sigmoid\")(x)\n",
    "transformer = tf.keras.Model(\n",
    "    encoder_input, output, name=\"transformer\"\n",
    ")\n",
    "transformer.summary()"
   ]
  },
  {
   "cell_type": "code",
   "execution_count": 157,
   "metadata": {},
   "outputs": [],
   "source": [
    "checkpoint_filepath = 'models/transformer.h5'\n",
    "model_checkpoint_callback = tf.keras.callbacks.ModelCheckpoint(\n",
    "    filepath=checkpoint_filepath,\n",
    "    monitor='val_loss',\n",
    "    mode='min',\n",
    "    save_best_only=True)\n",
    "\n",
    "reduce_lr = tf.keras.callbacks.ReduceLROnPlateau(monitor='val_loss', factor=0.2, patience=3, min_lr=1e-8)\n",
    "\n",
    "\n",
    "def hamming_loss(y_true, y_pred):\n",
    "    return tf.reduce_mean(tf.cast(tf.not_equal(y_true, tf.round(y_pred)), tf.float32))\n",
    "\n",
    "# Register hamming_loss as a custom metric\n",
    "tf.keras.utils.get_custom_objects()['hamming_loss'] = hamming_loss\n",
    "\n"
   ]
  },
  {
   "cell_type": "code",
   "execution_count": 158,
   "metadata": {},
   "outputs": [],
   "source": [
    "transformer.compile(loss=tf.keras.losses.BinaryCrossentropy(),\n",
    "              metrics=['hamming_loss', 'AUC'],\n",
    "              optimizer=tf.keras.optimizers.Adam(learning_rate=0.0001, decay=1e-6))\n"
   ]
  },
  {
   "cell_type": "markdown",
   "metadata": {},
   "source": [
    "### 4. Model training."
   ]
  },
  {
   "cell_type": "code",
   "execution_count": 159,
   "metadata": {},
   "outputs": [
    {
     "name": "stdout",
     "output_type": "stream",
     "text": [
      "Epoch 1/20\n",
      "1780/1780 [==============================] - 142s 78ms/step - loss: 0.1508 - hamming_loss: 0.0376 - auc: 0.6559 - val_loss: 0.1405 - val_hamming_loss: 0.0339 - val_auc: 0.6824\n",
      "Epoch 2/20\n",
      "1780/1780 [==============================] - 136s 77ms/step - loss: 0.1362 - hamming_loss: 0.0331 - auc: 0.7094 - val_loss: 0.1319 - val_hamming_loss: 0.0323 - val_auc: 0.7328\n",
      "Epoch 3/20\n",
      "1780/1780 [==============================] - 137s 77ms/step - loss: 0.1269 - hamming_loss: 0.0322 - auc: 0.7681 - val_loss: 0.1233 - val_hamming_loss: 0.0320 - val_auc: 0.7915\n",
      "Epoch 4/20\n",
      "1780/1780 [==============================] - 137s 77ms/step - loss: 0.1189 - hamming_loss: 0.0319 - auc: 0.8151 - val_loss: 0.1177 - val_hamming_loss: 0.0318 - val_auc: 0.8199\n",
      "Epoch 5/20\n",
      "1780/1780 [==============================] - 137s 77ms/step - loss: 0.1131 - hamming_loss: 0.0316 - auc: 0.8440 - val_loss: 0.1152 - val_hamming_loss: 0.0317 - val_auc: 0.8310\n",
      "Epoch 6/20\n",
      "1780/1780 [==============================] - 136s 77ms/step - loss: 0.1085 - hamming_loss: 0.0314 - auc: 0.8643 - val_loss: 0.1137 - val_hamming_loss: 0.0314 - val_auc: 0.8388\n",
      "Epoch 7/20\n",
      "1780/1780 [==============================] - 135s 76ms/step - loss: 0.1044 - hamming_loss: 0.0311 - auc: 0.8801 - val_loss: 0.1131 - val_hamming_loss: 0.0315 - val_auc: 0.8429\n",
      "Epoch 8/20\n",
      "1780/1780 [==============================] - 139s 78ms/step - loss: 0.1007 - hamming_loss: 0.0307 - auc: 0.8925 - val_loss: 0.1129 - val_hamming_loss: 0.0315 - val_auc: 0.8453\n",
      "Epoch 9/20\n",
      "1780/1780 [==============================] - 142s 80ms/step - loss: 0.0975 - hamming_loss: 0.0303 - auc: 0.9024 - val_loss: 0.1134 - val_hamming_loss: 0.0317 - val_auc: 0.8454\n",
      "Epoch 10/20\n",
      "1780/1780 [==============================] - 135s 76ms/step - loss: 0.0944 - hamming_loss: 0.0300 - auc: 0.9109 - val_loss: 0.1142 - val_hamming_loss: 0.0318 - val_auc: 0.8438\n",
      "Epoch 11/20\n",
      "1780/1780 [==============================] - 136s 76ms/step - loss: 0.0916 - hamming_loss: 0.0295 - auc: 0.9181 - val_loss: 0.1151 - val_hamming_loss: 0.0320 - val_auc: 0.8421\n",
      "Epoch 12/20\n",
      "1780/1780 [==============================] - 140s 79ms/step - loss: 0.0863 - hamming_loss: 0.0287 - auc: 0.9311 - val_loss: 0.1148 - val_hamming_loss: 0.0324 - val_auc: 0.8443\n",
      "Epoch 13/20\n",
      "1780/1780 [==============================] - 139s 78ms/step - loss: 0.0852 - hamming_loss: 0.0285 - auc: 0.9336 - val_loss: 0.1153 - val_hamming_loss: 0.0325 - val_auc: 0.8436\n",
      "Epoch 14/20\n",
      "1780/1780 [==============================] - 137s 77ms/step - loss: 0.0843 - hamming_loss: 0.0284 - auc: 0.9355 - val_loss: 0.1156 - val_hamming_loss: 0.0326 - val_auc: 0.8432\n",
      "Epoch 15/20\n",
      "1780/1780 [==============================] - 137s 77ms/step - loss: 0.0831 - hamming_loss: 0.0281 - auc: 0.9382 - val_loss: 0.1155 - val_hamming_loss: 0.0328 - val_auc: 0.8439\n",
      "Epoch 16/20\n",
      "1780/1780 [==============================] - 136s 76ms/step - loss: 0.0827 - hamming_loss: 0.0280 - auc: 0.9388 - val_loss: 0.1156 - val_hamming_loss: 0.0327 - val_auc: 0.8436\n",
      "Epoch 17/20\n",
      "1780/1780 [==============================] - 136s 76ms/step - loss: 0.0825 - hamming_loss: 0.0280 - auc: 0.9391 - val_loss: 0.1157 - val_hamming_loss: 0.0328 - val_auc: 0.8434\n",
      "Epoch 18/20\n",
      "1780/1780 [==============================] - 136s 76ms/step - loss: 0.0822 - hamming_loss: 0.0279 - auc: 0.9397 - val_loss: 0.1157 - val_hamming_loss: 0.0327 - val_auc: 0.8433\n",
      "Epoch 19/20\n",
      "1780/1780 [==============================] - 136s 76ms/step - loss: 0.0821 - hamming_loss: 0.0280 - auc: 0.9401 - val_loss: 0.1157 - val_hamming_loss: 0.0327 - val_auc: 0.8431\n",
      "Epoch 20/20\n",
      "1780/1780 [==============================] - 136s 76ms/step - loss: 0.0821 - hamming_loss: 0.0279 - auc: 0.9400 - val_loss: 0.1157 - val_hamming_loss: 0.0327 - val_auc: 0.8431\n"
     ]
    }
   ],
   "source": [
    "history=transformer.fit(\n",
    "    train_dataset,\n",
    "    validation_data=val_dataset,\n",
    "    epochs=NUM_EPOCHS,\n",
    "    callbacks=[model_checkpoint_callback, reduce_lr])"
   ]
  },
  {
   "cell_type": "markdown",
   "metadata": {},
   "source": [
    "### 5. Metrics evolution."
   ]
  },
  {
   "cell_type": "code",
   "execution_count": 160,
   "metadata": {},
   "outputs": [
    {
     "data": {
      "image/png": "[encoded data removed]",
      "text/plain": [
       "<Figure size 432x288 with 1 Axes>"
      ]
     },
     "metadata": {
      "needs_background": "light"
     },
     "output_type": "display_data"
    }
   ],
   "source": [
    "import matplotlib.pyplot as plt\n",
    "plt.plot(history.history['loss'])\n",
    "plt.plot(history.history['val_loss'])\n",
    "\n",
    "plt.title('Loss evolution')\n",
    "plt.ylabel('Loss')\n",
    "plt.xlabel('Epoch')\n",
    "plt.legend(['train', 'val'], loc='upper left')\n",
    "plt.show()"
   ]
  },
  {
   "cell_type": "code",
   "execution_count": 162,
   "metadata": {},
   "outputs": [
    {
     "data": {
      "image/png": "[encoded data removed]",
      "text/plain": [
       "<Figure size 432x288 with 1 Axes>"
      ]
     },
     "metadata": {
      "needs_background": "light"
     },
     "output_type": "display_data"
    }
   ],
   "source": [
    "plt.plot(history.history['hamming_loss'])\n",
    "plt.plot(history.history['val_hamming_loss'])\n",
    "\n",
    "plt.title('Hamming loss evolution')\n",
    "plt.ylabel('Hamming loss')\n",
    "plt.xlabel('Epoch')\n",
    "plt.legend(['train', 'val'], loc='upper left')\n",
    "plt.show()"
   ]
  },
  {
   "cell_type": "code",
   "execution_count": 163,
   "metadata": {},
   "outputs": [
    {
     "name": "stdout",
     "output_type": "stream",
     "text": [
      "7123/7123 [==============================] - 34s 5ms/step - loss: 0.1146 - hamming_loss: 0.0325 - auc: 0.8450\n",
      "Done\n",
      "Final loss: 0.11455962061882019\n",
      "Final hamming loss: 0.03246672451496124\n"
     ]
    }
   ],
   "source": [
    "evaluation = transformer.evaluate(test_dataset.batch(1))\n",
    "print(\"Done\")\n",
    "print(f\"Final loss: {evaluation[0]}\")\n",
    "print(f\"Final hamming loss: {evaluation[1]}\")"
   ]
  }
 ],
 "metadata": {
  "kernelspec": {
   "display_name": "tensorflow",
   "language": "python",
   "name": "python3"
  },
  "language_info": {
   "codemirror_mode": {
    "name": "ipython",
    "version": 3
   },
   "file_extension": ".py",
   "mimetype": "text/x-python",
   "name": "python",
   "nbconvert_exporter": "python",
   "pygments_lexer": "ipython3",
   "version": "3.6.13"
  }
 },
 "nbformat": 4,
 "nbformat_minor": 2
}
