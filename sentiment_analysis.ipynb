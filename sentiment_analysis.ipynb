{
 "cells": [
  {
   "cell_type": "markdown",
   "metadata": {},
   "source": [
    "# Sentiment analysis with a transformer encoder."
   ]
  },
  {
   "cell_type": "markdown",
   "metadata": {},
   "source": [
    "This notebook contains code that demonstrates how to build a transformer encoder from scratch for binary sentiment classification."
   ]
  },
  {
   "cell_type": "code",
   "execution_count": 1,
   "metadata": {},
   "outputs": [
    {
     "name": "stdout",
     "output_type": "stream",
     "text": [
      "Train size: 56041\n",
      "Val size: 7122\n",
      "Test size: 7123\n"
     ]
    }
   ],
   "source": [
    "import pandas as pd\n",
    "# Set the device to GPU\n",
    "import tensorflow as tf\n",
    "gpus = tf.config.experimental.list_physical_devices('GPU')\n",
    "if gpus:\n",
    "    try:\n",
    "        for gpu in gpus:\n",
    "            tf.config.experimental.set_memory_growth(gpu, True)\n",
    "    except RuntimeError as e:\n",
    "        print(e)\n",
    "\n",
    "\n",
    "# DATA\n",
    "DATA = pd.read_csv('data/go_emotions_dataset.csv')\n",
    "CATEGORIES = ['admiration', 'amusement', 'anger', 'annoyance', 'approval', 'caring', 'confusion', 'curiosity', 'desire', 'disappointment', 'disapproval', 'disgust', 'embarrassment', 'excitement', 'fear', 'gratitude', 'grief', 'joy', 'love', 'nervousness', 'optimism', 'pride', 'realization', 'relief', 'remorse', 'sadness', 'surprise']\n",
    "\n",
    "TEXT = 'text'\n",
    "TOTAL_SIZE = len(DATA)\n",
    "# CONFIGURATION\n",
    "TRAIN_SIZE = int(TOTAL_SIZE*0.8)\n",
    "VAL_SIZE = int(TOTAL_SIZE*0.1)\n",
    "TEST_SIZE = int(TOTAL_SIZE*0.1)\n",
    "\n",
    "TRAIN_DATA = DATA[:TRAIN_SIZE]\n",
    "TRAIN_DATA = TRAIN_DATA[TRAIN_DATA['example_very_unclear'] == False]\n",
    "\n",
    "VAL_DATA = DATA[TRAIN_SIZE:TRAIN_SIZE+VAL_SIZE]\n",
    "\n",
    "TEST_DATA = DATA[TRAIN_SIZE+VAL_SIZE:]\n",
    "\n",
    "print(f\"Train size: {len(TRAIN_DATA)}\")\n",
    "print(f\"Val size: {len(VAL_DATA)}\")\n",
    "print(f\"Test size: {len(TEST_DATA)}\")\n",
    "\n",
    "# MODEL PARAMS\n",
    "BATCH_SIZE=64\n",
    "VOCAB_SIZE=10000\n",
    "SEQUENCE_LENGTH=128\n",
    "EMBEDDING_DIM=100\n",
    "D_FF=1024\n",
    "NUM_HEADS=8\n",
    "NUM_LAYERS=1\n",
    "NUM_EPOCHS=20"
   ]
  },
  {
   "cell_type": "code",
   "execution_count": 20,
   "metadata": {},
   "outputs": [
    {
     "name": "stdout",
     "output_type": "stream",
     "text": [
      "I love deep learning.\n",
      "I love deep learning.\n",
      "I love deep learning.\n"
     ]
    }
   ],
   "source": [
    "import random\n",
    "\n",
    "### TODO ### SENTENCE AUGMENTATION ###\n",
    "def augment_text(original_text, num_variations=3):\n",
    "    # Split the original text into words\n",
    "    words = original_text.split()\n",
    "\n",
    "    # Generate variations\n",
    "    augmented_phrases = []\n",
    "    for _ in range(num_variations):\n",
    "        variation = list(words)  # Create a copy of the original words\n",
    "        for i in range(len(variation)):\n",
    "            # Randomly replace some words with synonyms or similar words\n",
    "            if random.random() < 0.2:  # Adjust the probability as needed\n",
    "                # Replace with a synonym (you can use WordNet or other resources)\n",
    "                # Example: variation[i] = get_synonym(variation[i])\n",
    "                pass\n",
    "            # Add some noise (e.g., typos, extra words, or missing words)\n",
    "            elif random.random() < 0.1:\n",
    "                # Example: variation.insert(i, \"extra_word\")\n",
    "                # Example: variation.pop(i)\n",
    "                pass\n",
    "\n",
    "        # Join the words back into a phrase\n",
    "        augmented_phrases.append(\" \".join(variation))\n",
    "\n",
    "    return augmented_phrases\n",
    "\n",
    "# Example usage\n",
    "original_phrase = \"I love deep learning.\"\n",
    "augmented_phrases = augment_text(original_phrase)\n",
    "for phrase in augmented_phrases:\n",
    "    print(phrase)\n"
   ]
  },
  {
   "cell_type": "markdown",
   "metadata": {},
   "source": [
    "## 1. Data loading."
   ]
  },
  {
   "cell_type": "code",
   "execution_count": 2,
   "metadata": {},
   "outputs": [],
   "source": [
    "def load_and_split_data(data):\n",
    "    text = data[TEXT].values\n",
    "    label = data[CATEGORIES].values\n",
    "    return text, label\n",
    "\n",
    "# Load the data\n",
    "train_data, train_labels = load_and_split_data(TRAIN_DATA)\n",
    "val_data, val_labels = load_and_split_data(VAL_DATA)\n",
    "test_data, test_labels = load_and_split_data(TEST_DATA)\n",
    "\n",
    "\n",
    "train_dataset = tf.data.Dataset.from_tensor_slices((train_data, train_labels))\n",
    "val_dataset = tf.data.Dataset.from_tensor_slices((val_data, val_labels))\n",
    "test_dataset = tf.data.Dataset.from_tensor_slices((test_data, test_labels))\n",
    "\n"
   ]
  },
  {
   "cell_type": "markdown",
   "metadata": {},
   "source": [
    "## 2. Data preprocessing."
   ]
  },
  {
   "cell_type": "code",
   "execution_count": 3,
   "metadata": {},
   "outputs": [],
   "source": [
    "\n",
    "def standardization(input_data):\n",
    "    input_data = tf.strings.lower(input_data)\n",
    "    input_data = tf.strings.regex_replace(input_data, r'\\d+', '')\n",
    "    input_data = tf.strings.regex_replace(input_data, r'[^\\w\\s]', '')\n",
    "    input_data = tf.strings.strip(input_data)\n",
    "    return input_data\n",
    "\n",
    "\n",
    "\n",
    "\n"
   ]
  },
  {
   "cell_type": "code",
   "execution_count": 4,
   "metadata": {},
   "outputs": [],
   "source": [
    "vectorize_layer=tf.keras.layers.TextVectorization(\n",
    "    standardize=standardization,\n",
    "    max_tokens=VOCAB_SIZE, output_mode='int', output_sequence_length=SEQUENCE_LENGTH\n",
    ")\n"
   ]
  },
  {
   "cell_type": "code",
   "execution_count": 5,
   "metadata": {},
   "outputs": [],
   "source": [
    "training_dataset = train_dataset.map(lambda x, y: x)\n",
    "vectorize_layer.adapt(training_dataset)\n"
   ]
  },
  {
   "cell_type": "code",
   "execution_count": 6,
   "metadata": {},
   "outputs": [],
   "source": [
    "def vectorizer(review,label):\n",
    "    review =  vectorize_layer(review)\n",
    "    if len(review)<SEQUENCE_LENGTH:\n",
    "        review = tf.pad(review, [[0,SEQUENCE_LENGTH-len(review)]])\n",
    "    return review,label"
   ]
  },
  {
   "cell_type": "code",
   "execution_count": 7,
   "metadata": {},
   "outputs": [],
   "source": [
    "import pickle\n",
    "with open('models/vectorize_layer.h5', 'wb') as f:\n",
    "    pickle.dump({'weights':vectorize_layer.get_weights(), 'config': vectorize_layer.get_config()}, f)"
   ]
  },
  {
   "cell_type": "code",
   "execution_count": 8,
   "metadata": {},
   "outputs": [],
   "source": [
    "train_dataset=train_dataset.map(vectorizer)\n",
    "val_dataset=val_dataset.map(vectorizer)\n",
    "test_dataset=test_dataset.map(vectorizer)\n",
    "\n"
   ]
  },
  {
   "cell_type": "code",
   "execution_count": 9,
   "metadata": {},
   "outputs": [],
   "source": [
    "train_dataset=train_dataset.batch(BATCH_SIZE, drop_remainder=True).prefetch(buffer_size=tf.data.AUTOTUNE)\n",
    "val_dataset=val_dataset.batch(BATCH_SIZE, drop_remainder=True).prefetch(buffer_size=tf.data.AUTOTUNE)"
   ]
  },
  {
   "cell_type": "markdown",
   "metadata": {},
   "source": [
    "## 3. Data modelling\n",
    "### 3.1. Embedding layer."
   ]
  },
  {
   "cell_type": "code",
   "execution_count": 10,
   "metadata": {},
   "outputs": [],
   "source": [
    "import numpy as np\n",
    "def positional_encoding(model_size,SEQUENCE_LENGTH):\n",
    "  output=[]\n",
    "  for pos in range(SEQUENCE_LENGTH):\n",
    "    PE=np.zeros((model_size))\n",
    "    for i in range(model_size):\n",
    "      if i%2==0:\n",
    "        PE[i]=np.sin(pos/(10000**(i/model_size)))\n",
    "      else:\n",
    "        PE[i]=np.cos(pos/(10000**((i-1)/model_size)))\n",
    "    output.append(tf.expand_dims(PE,axis=0))\n",
    "  out=tf.concat(output,axis=0)\n",
    "  out=tf.expand_dims(out,axis=0)\n",
    "  return tf.cast(out,dtype=tf.float32)"
   ]
  },
  {
   "cell_type": "code",
   "execution_count": 11,
   "metadata": {},
   "outputs": [],
   "source": [
    "class Embeddings(tf.keras.layers.Layer):\n",
    "  def __init__(self, sequence_length, vocab_size, embed_dim,):\n",
    "    super(Embeddings, self).__init__()\n",
    "    self.token_embeddings=tf.keras.layers.Embedding(\n",
    "        input_dim=vocab_size, output_dim=embed_dim)\n",
    "    self.sequence_length = sequence_length\n",
    "    self.vocab_size = vocab_size\n",
    "    self.embed_dim = embed_dim\n",
    "\n",
    "  def call(self, inputs):\n",
    "    embedded_tokens = self.token_embeddings(inputs)\n",
    "    embedded_positions=positional_encoding(\n",
    "        self.embed_dim,self.sequence_length)\n",
    "    return embedded_tokens + embedded_positions\n",
    "\n",
    "  def compute_mask(self, inputs, mask=None):\n",
    "    return tf.math.not_equal(inputs, 0)\n",
    "\n",
    "  def get_config(self):\n",
    "      config = super().get_config()\n",
    "      config.update({\n",
    "        \"sequence_length\": self.sequence_length,\n",
    "        \"vocab_size\": self.vocab_size,\n",
    "        \"embed_dim\": self.embed_dim,\n",
    "      })\n",
    "      return config"
   ]
  },
  {
   "cell_type": "markdown",
   "metadata": {},
   "source": [
    "### 3.2 Encoder layer."
   ]
  },
  {
   "cell_type": "code",
   "execution_count": 12,
   "metadata": {},
   "outputs": [],
   "source": [
    "class TransformerEncoder(tf.keras.layers.Layer):\n",
    "    def __init__(self, embed_dim, dense_dim, num_heads,):\n",
    "        super(TransformerEncoder, self).__init__()\n",
    "        self.embed_dim = embed_dim\n",
    "        self.dense_dim = dense_dim\n",
    "        self.num_heads = num_heads\n",
    "        self.attention = tf.keras.layers.MultiHeadAttention(\n",
    "            num_heads=num_heads, key_dim=embed_dim,\n",
    "        )\n",
    "        self.dense_proj=tf.keras.Sequential(\n",
    "            [tf.keras.layers.Dense(dense_dim, activation=\"elu\"),tf.keras.layers.Dense(embed_dim),]\n",
    "        )\n",
    "        self.layernorm_1 = tf.keras.layers.LayerNormalization()\n",
    "        self.layernorm_2 = tf.keras.layers.LayerNormalization()\n",
    "        self.supports_masking = True\n",
    "\n",
    "    def call(self, inputs, mask=None):\n",
    "      if mask is not None:\n",
    "        mask1 = mask[:, :, tf.newaxis]\n",
    "        mask2 = mask[:,tf.newaxis, :]\n",
    "        padding_mask = tf.cast(mask1&mask2, dtype=\"int32\")\n",
    "\n",
    "      attention_output = self.attention(\n",
    "          query=inputs, key=inputs,value=inputs,attention_mask=padding_mask\n",
    "      )\n",
    "\n",
    "      proj_input = self.layernorm_1(inputs + attention_output)\n",
    "      proj_output = self.dense_proj(proj_input)\n",
    "      return self.layernorm_2(proj_input + proj_output)\n",
    "\n",
    "    def get_config(self):\n",
    "      config = super().get_config()\n",
    "      config.update({\n",
    "        \"embed_dim\": self.embed_dim,\n",
    "        \"num_heads\": self.num_heads,\n",
    "        \"dense_dim\": self.dense_dim,\n",
    "      })\n",
    "      return config"
   ]
  },
  {
   "cell_type": "markdown",
   "metadata": {},
   "source": [
    "### 3. Final model."
   ]
  },
  {
   "cell_type": "code",
   "execution_count": 13,
   "metadata": {},
   "outputs": [
    {
     "name": "stdout",
     "output_type": "stream",
     "text": [
      "Model: \"transformer\"\n",
      "_________________________________________________________________\n",
      "Layer (type)                 Output Shape              Param #   \n",
      "=================================================================\n",
      "input (InputLayer)           [(None, None)]            0         \n",
      "_________________________________________________________________\n",
      "embeddings (Embeddings)      (None, 128, 100)          1000000   \n",
      "_________________________________________________________________\n",
      "transformer_encoder (Transfo (None, 128, 100)          528824    \n",
      "_________________________________________________________________\n",
      "flatten (Flatten)            (None, 12800)             0         \n",
      "_________________________________________________________________\n",
      "dense_2 (Dense)              (None, 27)                345627    \n",
      "=================================================================\n",
      "Total params: 1,874,451\n",
      "Trainable params: 1,874,451\n",
      "Non-trainable params: 0\n",
      "_________________________________________________________________\n"
     ]
    }
   ],
   "source": [
    "encoder_input=tf.keras.layers.Input(shape=(None,), dtype=\"int64\", name=\"input\")\n",
    "\n",
    "x = Embeddings(SEQUENCE_LENGTH,VOCAB_SIZE,EMBEDDING_DIM)(encoder_input)\n",
    "\n",
    "for _ in range(NUM_LAYERS):\n",
    "  \n",
    "  x=TransformerEncoder(EMBEDDING_DIM,D_FF,NUM_HEADS)(x)\n",
    "\n",
    "x = tf.keras.layers.Flatten()(x)\n",
    "output=tf.keras.layers.Dense(len(CATEGORIES), activation=\"sigmoid\")(x)\n",
    "\n",
    "transformer = tf.keras.Model(\n",
    "    encoder_input, output, name=\"transformer\"\n",
    ")\n",
    "transformer.summary()"
   ]
  },
  {
   "cell_type": "code",
   "execution_count": 14,
   "metadata": {},
   "outputs": [],
   "source": [
    "checkpoint_filepath = 'models/transformer.h5'\n",
    "model_checkpoint_callback = tf.keras.callbacks.ModelCheckpoint(\n",
    "    filepath=checkpoint_filepath,\n",
    "    monitor='val_loss',\n",
    "    mode='min',\n",
    "    save_best_only=True)\n",
    "\n",
    "reduce_lr = tf.keras.callbacks.ReduceLROnPlateau(monitor='val_loss', factor=0.2, patience=3, min_lr=1e-8)"
   ]
  },
  {
   "cell_type": "code",
   "execution_count": 15,
   "metadata": {},
   "outputs": [],
   "source": [
    "\n",
    "transformer.compile(loss=tf.keras.losses.BinaryCrossentropy(),\n",
    "              optimizer=tf.keras.optimizers.Adam(learning_rate = 1e-4),\n",
    "              metrics=['accuracy'])\n",
    "\n"
   ]
  },
  {
   "cell_type": "markdown",
   "metadata": {},
   "source": [
    "### 4. Model training."
   ]
  },
  {
   "cell_type": "code",
   "execution_count": 16,
   "metadata": {},
   "outputs": [
    {
     "name": "stdout",
     "output_type": "stream",
     "text": [
      "Epoch 1/20\n",
      "875/875 [==============================] - 42s 41ms/step - loss: 0.1492 - accuracy: 0.1493 - val_loss: 0.1447 - val_accuracy: 0.1920\n",
      "Epoch 2/20\n",
      "875/875 [==============================] - 35s 40ms/step - loss: 0.1432 - accuracy: 0.1669 - val_loss: 0.1362 - val_accuracy: 0.2665\n",
      "Epoch 3/20\n",
      "875/875 [==============================] - 37s 42ms/step - loss: 0.1303 - accuracy: 0.2104 - val_loss: 0.1267 - val_accuracy: 0.2261\n",
      "Epoch 4/20\n",
      "875/875 [==============================] - 36s 41ms/step - loss: 0.1195 - accuracy: 0.2588 - val_loss: 0.1201 - val_accuracy: 0.2724\n",
      "Epoch 5/20\n",
      "875/875 [==============================] - 37s 42ms/step - loss: 0.1122 - accuracy: 0.2929 - val_loss: 0.1176 - val_accuracy: 0.2865\n",
      "Epoch 6/20\n",
      "875/875 [==============================] - 38s 44ms/step - loss: 0.1064 - accuracy: 0.3190 - val_loss: 0.1166 - val_accuracy: 0.2907\n",
      "Epoch 7/20\n",
      "875/875 [==============================] - 37s 42ms/step - loss: 0.1012 - accuracy: 0.3403 - val_loss: 0.1164 - val_accuracy: 0.2841\n",
      "Epoch 8/20\n",
      "875/875 [==============================] - 38s 44ms/step - loss: 0.0966 - accuracy: 0.3613 - val_loss: 0.1172 - val_accuracy: 0.2793\n",
      "Epoch 9/20\n",
      "875/875 [==============================] - 37s 42ms/step - loss: 0.0923 - accuracy: 0.3786 - val_loss: 0.1185 - val_accuracy: 0.2670\n",
      "Epoch 10/20\n",
      "875/875 [==============================] - 37s 43ms/step - loss: 0.0884 - accuracy: 0.3945 - val_loss: 0.1203 - val_accuracy: 0.2586\n",
      "Epoch 11/20\n",
      "875/875 [==============================] - 38s 43ms/step - loss: 0.0805 - accuracy: 0.4280 - val_loss: 0.1179 - val_accuracy: 0.2641\n",
      "Epoch 12/20\n",
      "875/875 [==============================] - 38s 44ms/step - loss: 0.0791 - accuracy: 0.4319 - val_loss: 0.1187 - val_accuracy: 0.2618\n",
      "Epoch 13/20\n",
      "875/875 [==============================] - 37s 42ms/step - loss: 0.0781 - accuracy: 0.4361 - val_loss: 0.1194 - val_accuracy: 0.2590\n",
      "Epoch 14/20\n",
      "875/875 [==============================] - 38s 44ms/step - loss: 0.0760 - accuracy: 0.4441 - val_loss: 0.1191 - val_accuracy: 0.2651\n",
      "Epoch 15/20\n",
      "875/875 [==============================] - 38s 43ms/step - loss: 0.0757 - accuracy: 0.4457 - val_loss: 0.1192 - val_accuracy: 0.2655\n",
      "Epoch 16/20\n",
      "875/875 [==============================] - 36s 41ms/step - loss: 0.0754 - accuracy: 0.4463 - val_loss: 0.1194 - val_accuracy: 0.2648\n",
      "Epoch 17/20\n",
      "875/875 [==============================] - 37s 42ms/step - loss: 0.0750 - accuracy: 0.4484 - val_loss: 0.1193 - val_accuracy: 0.2637\n",
      "Epoch 18/20\n",
      "875/875 [==============================] - 39s 45ms/step - loss: 0.0749 - accuracy: 0.4491 - val_loss: 0.1193 - val_accuracy: 0.2638\n",
      "Epoch 19/20\n",
      "875/875 [==============================] - 39s 45ms/step - loss: 0.0748 - accuracy: 0.4494 - val_loss: 0.1194 - val_accuracy: 0.2637\n",
      "Epoch 20/20\n",
      "875/875 [==============================] - 39s 45ms/step - loss: 0.0747 - accuracy: 0.4498 - val_loss: 0.1194 - val_accuracy: 0.2631\n"
     ]
    }
   ],
   "source": [
    "history=transformer.fit(\n",
    "    train_dataset,\n",
    "    validation_data=val_dataset,\n",
    "    epochs=NUM_EPOCHS,\n",
    "    callbacks=[model_checkpoint_callback, reduce_lr])"
   ]
  },
  {
   "cell_type": "markdown",
   "metadata": {},
   "source": [
    "### 5. Accuracy evolution."
   ]
  },
  {
   "cell_type": "code",
   "execution_count": 17,
   "metadata": {},
   "outputs": [
    {
     "data": {
      "image/png": "[encoded data removed]",
      "text/plain": [
       "<Figure size 432x288 with 1 Axes>"
      ]
     },
     "metadata": {
      "needs_background": "light"
     },
     "output_type": "display_data"
    }
   ],
   "source": [
    "import matplotlib.pyplot as plt\n",
    "plt.plot(history.history['loss'])\n",
    "plt.plot(history.history['val_loss'])\n",
    "\n",
    "plt.title('Loss evolution')\n",
    "plt.ylabel('Loss')\n",
    "plt.xlabel('Epoch')\n",
    "plt.legend(['train', 'val'], loc='upper left')\n",
    "plt.show()"
   ]
  },
  {
   "cell_type": "code",
   "execution_count": 18,
   "metadata": {},
   "outputs": [
    {
     "name": "stdout",
     "output_type": "stream",
     "text": [
      "7123/7123 [==============================] - 41s 5ms/step - loss: 0.1188 - accuracy: 0.2694\n",
      "Done\n",
      "Final loss: 0.11884614825248718\n",
      "Final accuracy: 0.2694089710712433\n"
     ]
    }
   ],
   "source": [
    "evaluation = transformer.evaluate(test_dataset.batch(1))\n",
    "print(\"Done\")\n",
    "print(f\"Final loss: {evaluation[0]}\")\n",
    "print(f\"Final accuracy: {evaluation[1]}\")"
   ]
  },
  {
   "cell_type": "code",
   "execution_count": 19,
   "metadata": {},
   "outputs": [
    {
     "data": {
      "text/plain": [
       "([<matplotlib.axis.XTick at 0x2ae899c02b0>,\n",
       "  <matplotlib.axis.XTick at 0x2ae899b6e80>,\n",
       "  <matplotlib.axis.XTick at 0x2ae899b6b70>,\n",
       "  <matplotlib.axis.XTick at 0x2ae89a7c3c8>,\n",
       "  <matplotlib.axis.XTick at 0x2ae89a7c860>,\n",
       "  <matplotlib.axis.XTick at 0x2ae89a7c668>,\n",
       "  <matplotlib.axis.XTick at 0x2ae89a7cef0>,\n",
       "  <matplotlib.axis.XTick at 0x2ae89a873c8>,\n",
       "  <matplotlib.axis.XTick at 0x2ae89a87860>,\n",
       "  <matplotlib.axis.XTick at 0x2ae89a87cf8>,\n",
       "  <matplotlib.axis.XTick at 0x2ae89a901d0>,\n",
       "  <matplotlib.axis.XTick at 0x2ae89a90668>,\n",
       "  <matplotlib.axis.XTick at 0x2ae89a90b00>,\n",
       "  <matplotlib.axis.XTick at 0x2ae89a90f98>,\n",
       "  <matplotlib.axis.XTick at 0x2ae89a902e8>,\n",
       "  <matplotlib.axis.XTick at 0x2ae89a87208>,\n",
       "  <matplotlib.axis.XTick at 0x2ae89a981d0>,\n",
       "  <matplotlib.axis.XTick at 0x2ae89a98668>,\n",
       "  <matplotlib.axis.XTick at 0x2ae89a98b00>,\n",
       "  <matplotlib.axis.XTick at 0x2ae89a98f98>,\n",
       "  <matplotlib.axis.XTick at 0x2ae89aa1470>,\n",
       "  <matplotlib.axis.XTick at 0x2ae89aa1908>,\n",
       "  <matplotlib.axis.XTick at 0x2ae89aa1da0>,\n",
       "  <matplotlib.axis.XTick at 0x2ae89aa1748>,\n",
       "  <matplotlib.axis.XTick at 0x2ae89a98780>,\n",
       "  <matplotlib.axis.XTick at 0x2ae89a90c88>,\n",
       "  <matplotlib.axis.XTick at 0x2ae89aab4e0>],\n",
       " [Text(0, 0, 'admiration'),\n",
       "  Text(1, 0, 'amusement'),\n",
       "  Text(2, 0, 'anger'),\n",
       "  Text(3, 0, 'annoyance'),\n",
       "  Text(4, 0, 'approval'),\n",
       "  Text(5, 0, 'caring'),\n",
       "  Text(6, 0, 'confusion'),\n",
       "  Text(7, 0, 'curiosity'),\n",
       "  Text(8, 0, 'desire'),\n",
       "  Text(9, 0, 'disappointment'),\n",
       "  Text(10, 0, 'disapproval'),\n",
       "  Text(11, 0, 'disgust'),\n",
       "  Text(12, 0, 'embarrassment'),\n",
       "  Text(13, 0, 'excitement'),\n",
       "  Text(14, 0, 'fear'),\n",
       "  Text(15, 0, 'gratitude'),\n",
       "  Text(16, 0, 'grief'),\n",
       "  Text(17, 0, 'joy'),\n",
       "  Text(18, 0, 'love'),\n",
       "  Text(19, 0, 'nervousness'),\n",
       "  Text(20, 0, 'optimism'),\n",
       "  Text(21, 0, 'pride'),\n",
       "  Text(22, 0, 'realization'),\n",
       "  Text(23, 0, 'relief'),\n",
       "  Text(24, 0, 'remorse'),\n",
       "  Text(25, 0, 'sadness'),\n",
       "  Text(26, 0, 'surprise')])"
      ]
     },
     "execution_count": 19,
     "metadata": {},
     "output_type": "execute_result"
    },
    {
     "data": {
      "image/png": "[encoded data removed]",
      "text/plain": [
       "<Figure size 1440x720 with 1 Axes>"
      ]
     },
     "metadata": {
      "needs_background": "light"
     },
     "output_type": "display_data"
    }
   ],
   "source": [
    "import seaborn as sns\n",
    "text = \"I am happy. I am sad. I am angry. I am disgusted. I am surprised. I am neutral.\"\n",
    "text, label = vectorizer(text, [0]*28)\n",
    "prediction = transformer.predict(text)\n",
    "plt.figure(figsize=(20,10))\n",
    "sns.barplot(x=CATEGORIES, y=prediction[0])\n",
    "plt.xticks(plt.gca().get_xticks(), rotation=90)\n",
    "\n",
    "\n",
    "\n"
   ]
  }
 ],
 "metadata": {
  "kernelspec": {
   "display_name": "tensorflow",
   "language": "python",
   "name": "python3"
  },
  "language_info": {
   "codemirror_mode": {
    "name": "ipython",
    "version": 3
   },
   "file_extension": ".py",
   "mimetype": "text/x-python",
   "name": "python",
   "nbconvert_exporter": "python",
   "pygments_lexer": "ipython3",
   "version": "3.6.13"
  }
 },
 "nbformat": 4,
 "nbformat_minor": 2
}
